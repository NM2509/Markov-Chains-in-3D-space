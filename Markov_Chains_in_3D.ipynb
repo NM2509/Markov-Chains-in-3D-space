{
  "nbformat": 4,
  "nbformat_minor": 0,
  "metadata": {
    "colab": {
      "provenance": [],
      "authorship_tag": "ABX9TyPhTV2ZE82LvRZ9USH1Zw0d",
      "include_colab_link": true
    },
    "kernelspec": {
      "name": "python3",
      "display_name": "Python 3"
    },
    "language_info": {
      "name": "python"
    }
  },
  "cells": [
    {
      "cell_type": "markdown",
      "metadata": {
        "id": "view-in-github",
        "colab_type": "text"
      },
      "source": [
        "<a href=\"https://colab.research.google.com/github/NM2509/Molecules/blob/main/Markov_Chains_in_3D.ipynb\" target=\"_parent\"><img src=\"https://colab.research.google.com/assets/colab-badge.svg\" alt=\"Open In Colab\"/></a>"
      ]
    },
    {
      "cell_type": "code",
      "execution_count": null,
      "metadata": {
        "id": "dqwpJnjCZZ80"
      },
      "outputs": [],
      "source": [
        "import numpy as np\n",
        "import pandas as pd\n",
        "import math \n",
        "import scipy.linalg as la\n",
        "import matplotlib.pyplot as plt\n",
        "\n",
        "# I am rounding probability down to 3"
      ]
    },
    {
      "cell_type": "code",
      "source": [
        "# To calculate probability after 10 steps with initial point selected \n",
        "n = input(\"Enter the number of steps: \") # specify the number of steps\n",
        "n = int(n)\n",
        "\n",
        "lookup_value = input(\"Please enter coordinate in the form 3,4 for (3,4)\")\n",
        "lookup_value = tuple(map(int, lookup_value.split(',')))\n",
        "\n",
        "\n",
        "X = np.array([1,2,3,4,5,6,7,8,9,10])\n",
        "Y = np.array([1,2,3,4,5,6,7,8,9,10])\n",
        "x,y = np.meshgrid(X,Y)\n",
        "\n",
        "# Defining transition matrix \n",
        "i = []\n",
        "for k in range(10):\n",
        "  for m in range(10):\n",
        "    i.append((x[k][m],y[k][m]))\n",
        "\n",
        "j = []\n",
        "for k in range(10):\n",
        "  for m in range(10):\n",
        "    j.append((x[k][m],y[k][m]))\n",
        "\n",
        "permutations = []\n",
        "for element in i:\n",
        "  for el in j:\n",
        "    permutations.append((element, el))\n",
        "permutations\n",
        "\n",
        "# Defining which points are on the outside, which on inside and which are corners\n",
        "corner = [(1,1),(10,1),(10,10),(1,10)]\n",
        "\n",
        "outside = []\n",
        "for element in i:\n",
        "  if (element[0] ==1) or (element[1]==1) or (element[0] ==10) or (element[1] ==10):\n",
        "    if element not in corner:\n",
        "      outside.append(element)\n",
        "\n",
        "inside = []\n",
        "for element in i:\n",
        "  if element not in corner:\n",
        "    if element not in outside:\n",
        "      inside.append(element)\n",
        "\n",
        "prob = []\n",
        "\n",
        "for element in permutations:\n",
        "  if element[0] in inside:\n",
        "    if (round(np.linalg.norm(np.array(element[0]) - np.array(element[1])),3) == 1):\n",
        "      probability = 0.25\n",
        "    else:\n",
        "      probability = 0 \n",
        "  if element[0] in corner:\n",
        "    if (round(np.linalg.norm(np.array(element[0]) - np.array(element[1])),3) == 1):\n",
        "      probability = 1/2\n",
        "    else: \n",
        "      probability = 0\n",
        "  if element[0] in outside:\n",
        "    if (round(np.linalg.norm(np.array(element[0]) - np.array(element[1])),3) == 1):\n",
        "      probability = 1/3\n",
        "    else: \n",
        "      probability = 0 \n",
        "  prob.append(probability)\n",
        "P = np.array(prob).reshape((100,100))\n",
        "\n",
        "\n",
        "#Create dictionary which will help go from transition probabilities to matrix elements \n",
        "dictionary = dict({})\n",
        "ls = []\n",
        "for k in range(10):\n",
        "  for m in range(10):\n",
        "    ls.append((x[k][m],y[k][m]))\n",
        "i=1\n",
        "for item in ls:\n",
        "  dictionary[i] = item\n",
        "  i = i+1\n",
        "\n",
        "A = np.linalg.matrix_power(P,n)\n",
        "keys = []\n",
        "for key, value in dictionary.items():\n",
        "    if(value == lookup_value):\n",
        "         keys.append(key)\n",
        "         number = np.array(keys)\n",
        "probabilities = A[number-1,:]\n",
        "\n",
        "# Probability of being at any particular point after n steps giving intial point \n",
        "circle = plt.Circle(lookup_value, 0.2, color='blue', alpha = 0.5, fill=False)\n",
        "\n",
        "x_ = np.tile(X,10)\n",
        "y_ = np.repeat(Y,10)\n",
        "\n",
        "# Defining matrix for colors \n",
        "c = np.zeros((100,4))\n",
        "for i in range(100):\n",
        "  if (round(probabilities[0][i],3) == 0):\n",
        "    c[i,0] = 0 #red\n",
        "    c[i,1] = 0 #green\n",
        "    c[i,2] = 1 #blue\n",
        "    c[i,3] = 1 #alpha\n",
        "  if (round(probabilities[0][i],3) > 0):\n",
        "    c[i,0] = 1\n",
        "    c[i,1] = 0 \n",
        "    c[i,2] = 0\n",
        "\n",
        "    if (probabilities[0][i] > 0) and (max(probabilities[0]) < 0.05):\n",
        "      c[i,3] = probabilities[0][i]*50\n",
        "    if (probabilities[0][i] > 0) and (max(probabilities[0]) < 0.1):\n",
        "      c[i,3] = probabilities[0][i]*10\n",
        "    if (probabilities[0][i] > 0) and (max(probabilities[0]) < 0.2):\n",
        "      c[i,3] = probabilities[0][i]*5\n",
        "    if (probabilities[0][i] > 0) and (max(probabilities[0]) >= 0.2):\n",
        "      c[i,3] = probabilities[0][i]\n",
        "\n",
        "fig = plt.figure(figsize = (10,7))\n",
        "\n",
        "ax = plt.gca()\n",
        "plt.scatter(x,y, color = c)\n",
        "ax.add_patch(circle)\n",
        "ax.set_aspect('equal', adjustable='datalim')\n",
        "\n",
        "for i, txt in enumerate(probabilities[0]):\n",
        "  if round(txt,3) >0:\n",
        "    if i > 89:\n",
        "      ax.annotate(round(txt,2), xy = (x_[i], y_[i]),  xytext=(x_[i],y_[i]-.3))\n",
        "    else: \n",
        "      ax.annotate(round(txt,2), xy = (x_[i], y_[i]),  xytext=(x_[i],y_[i]+.15))\n",
        "\n",
        "plt.title(\"Probability of being at any particular point after n steps giving intial point \\\n",
        "\\n\\n Blue circle indicates initial point; Red dots indicate where it can end up with positive probability\", pad = 20)"
      ],
      "metadata": {
        "id": "uOLqGI6KZhZF",
        "colab": {
          "base_uri": "https://localhost:8080/",
          "height": 562
        },
        "outputId": "fb384e8f-8795-4c9d-cc8e-38df3ef00f23"
      },
      "execution_count": null,
      "outputs": [
        {
          "name": "stdout",
          "output_type": "stream",
          "text": [
            "Enter the number of steps: 11\n",
            "Please enter coordinate in the form 3,4 for (3,4)1,1\n"
          ]
        },
        {
          "output_type": "execute_result",
          "data": {
            "text/plain": [
              "Text(0.5, 1.0, 'Probability of being at any particular point after n steps giving intial point \\n\\n Blue circle indicates initial point; Red dots indicate where it can end up with positive probability')"
            ]
          },
          "metadata": {},
          "execution_count": 66
        },
        {
          "output_type": "display_data",
          "data": {
            "text/plain": [
              "<Figure size 720x504 with 1 Axes>"
            ],
            "image/png": "[encoded data removed]"
          },
          "metadata": {
            "needs_background": "light"
          }
        }
      ]
    },
    {
      "cell_type": "code",
      "source": [],
      "metadata": {
        "id": "vwmoWQE_cELT",
        "colab": {
          "base_uri": "https://localhost:8080/"
        },
        "outputId": "7ae27526-0ceb-401e-b183-caff5f4d7ea2"
      },
      "execution_count": null,
      "outputs": [
        {
          "output_type": "execute_result",
          "data": {
            "text/plain": [
              "10000"
            ]
          },
          "metadata": {},
          "execution_count": 68
        }
      ]
    },
    {
      "cell_type": "code",
      "source": [],
      "metadata": {
        "colab": {
          "base_uri": "https://localhost:8080/"
        },
        "id": "BtUDL3vxOiGr",
        "outputId": "d7f65508-8f91-480c-cc1d-5e55878d859d"
      },
      "execution_count": null,
      "outputs": [
        {
          "output_type": "execute_result",
          "data": {
            "text/plain": [
              "99"
            ]
          },
          "metadata": {},
          "execution_count": 69
        }
      ]
    },
    {
      "cell_type": "markdown",
      "source": [
        "# Markov chains - recurrence and transience\n"
      ],
      "metadata": {
        "id": "hLIsKCTUmnTD"
      }
    },
    {
      "cell_type": "code",
      "source": [
        "import numpy as np\n",
        "import pandas as pd\n",
        "import random \n",
        "import statistics as st\n",
        "\n",
        "half = ['a','b']\n",
        "tenth = ['a','b','b','b','b','b','b','b','b','b']\n",
        "three = ['a','c','c','c','b','b','b','b','b','b','b','b','b','b','b','b','b','b','b','b']\n",
        "random.choice(half)\n",
        "\n",
        "def one_step(initial):\n",
        "  x = initial\n",
        "  if (x == 'one'): # x = 1\n",
        "    a = random.choice(half)\n",
        "    if (a == 'a'):\n",
        "      x = 'two'\n",
        "    if (a =='b'):\n",
        "      x = 'three'\n",
        "  elif (x=='two'): # x = 2 \n",
        "    a = random.choice(tenth)\n",
        "    if (a == 'a'):\n",
        "      x = 'three'\n",
        "    if (a == 'b'):\n",
        "      x = 'one'\n",
        "  elif (x=='three'): # x = 3\n",
        "    a = random.choice(three)\n",
        "    if (a == 'a'):\n",
        "      x = 'four'\n",
        "    if (a == 'c'):\n",
        "      x = 'one'\n",
        "    if (a == 'b'):\n",
        "      x = 'two'\n",
        "  return x\n",
        "\n",
        "def one_walk(initial):\n",
        "  x = one_step(initial)\n",
        "  list_ = ['one']\n",
        "  while (x != 'four'):\n",
        "    a = one_step(x)\n",
        "    list_.append(a)\n",
        "    x = a\n",
        "  return list_"
      ],
      "metadata": {
        "id": "_oiJNz7EmtLh"
      },
      "execution_count": null,
      "outputs": []
    },
    {
      "cell_type": "code",
      "source": [
        "number_of_visits = []\n",
        "for i in range(100):\n",
        "  list_ = one_walk('one')\n",
        "  times = list_.count('one')\n",
        "  number_of_visits.append(times)\n",
        "average_number_of_visits = st.mean(number_of_visits)\n",
        "average_number_of_visits"
      ],
      "metadata": {
        "colab": {
          "base_uri": "https://localhost:8080/"
        },
        "id": "WEa7Dkl8XZWU",
        "outputId": "0584b4d7-61ae-47b6-ca3d-713cdae7bddd"
      },
      "execution_count": null,
      "outputs": [
        {
          "output_type": "execute_result",
          "data": {
            "text/plain": [
              "31.74"
            ]
          },
          "metadata": {},
          "execution_count": 71
        }
      ]
    },
    {
      "cell_type": "markdown",
      "source": [
        "# 3D - matplotlib"
      ],
      "metadata": {
        "id": "mYSLgIno_2ev"
      }
    },
    {
      "cell_type": "code",
      "source": [
        "# Create all permutations of 0,1,2 for 3D space \n",
        "from itertools import permutations\n",
        "import numpy as np\n",
        "import pandas as pd\n",
        "import math \n",
        "import scipy.linalg as la\n",
        "import matplotlib.pyplot as plt\n",
        "from itertools import permutations\n",
        "from itertools import combinations_with_replacement\n",
        "from matplotlib.pyplot import figure, show\n",
        "\n",
        "n = 10 # number of steps\n",
        "lookup_value = (1,1,1)\n",
        "\n",
        "combinations = []\n",
        "p = []\n",
        "comb = combinations_with_replacement([0,1,2],3)\n",
        "for item in comb:\n",
        "  combinations.append(item)\n",
        "for item in combinations:\n",
        "  point = permutations(item)\n",
        "  for item in point:\n",
        "    p.append(item)\n",
        "\n",
        "points = []\n",
        "for item in p:\n",
        "  if item not in points:\n",
        "    points.append(item)"
      ],
      "metadata": {
        "id": "wlCVheLdGBtb"
      },
      "execution_count": null,
      "outputs": []
    },
    {
      "cell_type": "code",
      "source": [
        "ax = plt.axes(projection='3d')\n",
        "X = []\n",
        "for item in points:\n",
        "  X.append(item[0])\n",
        "Y = []\n",
        "for item in points:\n",
        "  Y.append(item[1])\n",
        "Z = []\n",
        "for item in points:\n",
        "  Z.append(item[2])\n",
        "\n",
        "ax.scatter3D(X, Y, Z,c = 'blue')\n",
        "ax.set_zticks([0, 1,2]);\n",
        "ax.set_xticks([0, 1,2]);\n",
        "ax.set_yticks([0, 1,2]);"
      ],
      "metadata": {
        "colab": {
          "base_uri": "https://localhost:8080/",
          "height": 248
        },
        "id": "TxQS5gw9IBh8",
        "outputId": "5a145470-65a7-4e5a-a19d-18ae3db3193b"
      },
      "execution_count": null,
      "outputs": [
        {
          "output_type": "display_data",
          "data": {
            "text/plain": [
              "<Figure size 432x288 with 1 Axes>"
            ],
            "image/png": "[encoded data removed]"
          },
          "metadata": {
            "needs_background": "light"
          }
        }
      ]
    },
    {
      "cell_type": "code",
      "source": [
        "corner = [(0,0,0),(0,0,2),(0,2,0),(2,0,0),(2,2,2),(2,2,0),(2,0,2),(0,2,2)]\n",
        "\n",
        "inside = [(1,1,1)]\n",
        "\n",
        "outside_center = [(1,0,1),(0,1,1),(1,2,1),(2,1,1),(1,1,0),(1,1,2)]\n",
        "\n",
        "outside_border = []\n",
        "for element in points:\n",
        "  if element not in corner:\n",
        "    if element not in inside:\n",
        "      if element not in outside_center:\n",
        "        outside_border.append(element)"
      ],
      "metadata": {
        "id": "eL9jqxT7L-xH"
      },
      "execution_count": null,
      "outputs": []
    },
    {
      "cell_type": "code",
      "source": [
        "p = []\n",
        "for element in points:\n",
        "  for el in points:\n",
        "    p.append((element, el))"
      ],
      "metadata": {
        "id": "t2V3V2zqO2v7"
      },
      "execution_count": null,
      "outputs": []
    },
    {
      "cell_type": "code",
      "source": [
        "prob = []\n",
        "\n",
        "for element in p:\n",
        "  if element[0] in inside:\n",
        "    if (round(np.linalg.norm(np.array(element[0]) - np.array(element[1])),3) == 1):\n",
        "      probability = 1/6\n",
        "    else:\n",
        "      probability = 0 \n",
        "  if element[0] in corner:\n",
        "    if (round(np.linalg.norm(np.array(element[0]) - np.array(element[1])),3) == 1):\n",
        "      probability = 1/3\n",
        "    else: \n",
        "      probability = 0\n",
        "  if element[0] in outside_border:\n",
        "    if (round(np.linalg.norm(np.array(element[0]) - np.array(element[1])),3) == 1):\n",
        "      probability = 1/4\n",
        "    else: \n",
        "      probability = 0 \n",
        "  if element[0] in outside_center:\n",
        "    if (round(np.linalg.norm(np.array(element[0]) - np.array(element[1])),3) == 1):\n",
        "      probability = 1/5\n",
        "    else: \n",
        "      probability = 0 \n",
        "  prob.append(probability)\n",
        "P = np.array(prob).reshape((27,27))"
      ],
      "metadata": {
        "id": "BWEYF6HiN7eJ"
      },
      "execution_count": null,
      "outputs": []
    },
    {
      "cell_type": "code",
      "source": [
        "#Create dictionary which will help go from transition probabilities to matrix elements \n",
        "dictionary = dict({})\n",
        "i=1\n",
        "for item in points:\n",
        "  dictionary[i] = item\n",
        "  i = i+1\n",
        "\n",
        "A = np.linalg.matrix_power(P,n)\n",
        "keys = []\n",
        "for key, value in dictionary.items():\n",
        "    if(value == lookup_value):\n",
        "         keys.append(key)\n",
        "         number = np.array(keys)\n",
        "probabilities = A[number-1,:]"
      ],
      "metadata": {
        "id": "k8AhMQ3rQv6K"
      },
      "execution_count": null,
      "outputs": []
    },
    {
      "cell_type": "code",
      "source": [
        "# Probability of being at any particular point after n steps giving intial point \n",
        "#circle = plt.Circle(lookup_value, 0.2, color='blue', alpha = 0.5, fill=False)\n",
        "\n",
        "\"\"\"x_ = np.tile(X,10)\n",
        "y_ = np.repeat(Y,10)\n",
        "\"\"\"\n",
        "\n",
        "# Defining matrix for colors \n",
        "c = np.zeros((27,4))\n",
        "for i in range(27):\n",
        "  if (round(probabilities[0][i],3) == 0):\n",
        "    c[i,0] = 0 #red\n",
        "    c[i,1] = 0 #green\n",
        "    c[i,2] = 1 #blue\n",
        "    c[i,3] = 1 #alpha\n",
        "  if (round(probabilities[0][i],3) > 0):\n",
        "    c[i,0] = 1\n",
        "    c[i,1] = 0 \n",
        "    c[i,2] = 0\n",
        "\n",
        "    if (probabilities[0][i] > 0) and (max(probabilities[0]) < 0.05):\n",
        "      c[i,3] = probabilities[0][i]*50\n",
        "    if (probabilities[0][i] > 0) and (max(probabilities[0]) < 0.1):\n",
        "      c[i,3] = probabilities[0][i]*10\n",
        "    if (probabilities[0][i] > 0) and (max(probabilities[0]) < 0.2):\n",
        "      c[i,3] = probabilities[0][i]*5\n",
        "    if (probabilities[0][i] > 0) and (max(probabilities[0]) >= 0.2):\n",
        "      c[i,3] = probabilities[0][i]\n",
        "\n",
        "\n",
        "\n",
        "fig = plt.figure(figsize = (10,7))\n",
        "ax = plt.axes(projection='3d')\n",
        "ax.scatter3D(X, Y, Z,c = c)\n",
        "ax.set_zticks([0, 1,2]);\n",
        "ax.set_xticks([0, 1,2]);\n",
        "ax.set_yticks([0, 1,2]);\n",
        "\n",
        "\n",
        "#for i in range(len(probabilities[0])):\n",
        "\"\"\"\n",
        "\n",
        "ax.add_patch(circle)\n",
        "ax.set_aspect('equal', adjustable='datalim')\n",
        "\n",
        "for i, txt in enumerate(probabilities[0]):\n",
        "  if round(txt,3) >0:\n",
        "    if i > 89:\n",
        "      ax.annotate(round(txt,2), xy = (x_[i], y_[i]),  xytext=(x_[i],y_[i]-.3))\n",
        "    else: \n",
        "      ax.annotate(round(txt,2), xy = (x_[i], y_[i]),  xytext=(x_[i],y_[i]+.15))\"\"\"\n",
        "\n",
        "\n",
        "plt.title(\"Probability of being at any particular point after n steps giving intial point \\\n",
        "\\n\\n Blue circle indicates initial point; Red dots indicate where it can end up with positive probability\", pad = 20)"
      ],
      "metadata": {
        "colab": {
          "base_uri": "https://localhost:8080/",
          "height": 479
        },
        "id": "NHgfpHR-SSwq",
        "outputId": "3f34ba4c-e86d-44c0-e006-7f0234c681e2"
      },
      "execution_count": null,
      "outputs": [
        {
          "output_type": "execute_result",
          "data": {
            "text/plain": [
              "Text(0.5, 0.92, 'Probability of being at any particular point after n steps giving intial point \\n\\n Blue circle indicates initial point; Red dots indicate where it can end up with positive probability')"
            ]
          },
          "metadata": {},
          "execution_count": 116
        },
        {
          "output_type": "display_data",
          "data": {
            "text/plain": [
              "<Figure size 720x504 with 1 Axes>"
            ],
            "image/png": "[encoded data removed]"
          },
          "metadata": {
            "needs_background": "light"
          }
        }
      ]
    },
    {
      "cell_type": "code",
      "source": [],
      "metadata": {
        "id": "r0_qiKhUBj4K"
      },
      "execution_count": null,
      "outputs": []
    },
    {
      "cell_type": "markdown",
      "source": [
        "# 3D - plotly"
      ],
      "metadata": {
        "id": "EzFH9PbIB7z-"
      }
    },
    {
      "cell_type": "code",
      "source": [
        "# Create all permutations of 0,1,2 for 3D space \n",
        "from itertools import permutations\n",
        "import numpy as np\n",
        "import pandas as pd\n",
        "import math \n",
        "import scipy.linalg as la\n",
        "import matplotlib.pyplot as plt\n",
        "from itertools import permutations\n",
        "from itertools import combinations_with_replacement\n",
        "from matplotlib.pyplot import figure, show"
      ],
      "metadata": {
        "id": "tqFTyZI7B_cY"
      },
      "execution_count": null,
      "outputs": []
    },
    {
      "cell_type": "code",
      "source": [
        "n = 10 # number of steps\n",
        "lookup_value = (1,1,1)\n",
        "\n",
        "combinations = []\n",
        "p = []\n",
        "comb = combinations_with_replacement([0,1,2],3)\n",
        "for item in comb:\n",
        "  combinations.append(item)\n",
        "for item in combinations:\n",
        "  point = permutations(item)\n",
        "  for item in point:\n",
        "    p.append(item)\n",
        "\n",
        "points = []\n",
        "for item in p:\n",
        "  if item not in points:\n",
        "    points.append(item)"
      ],
      "metadata": {
        "id": "U5NLES02CIGH"
      },
      "execution_count": null,
      "outputs": []
    },
    {
      "cell_type": "code",
      "source": [
        "X = []\n",
        "for item in points:\n",
        "  X.append(item[0])\n",
        "X = np.array(X)\n",
        "Y = []\n",
        "for item in points:\n",
        "  Y.append(item[1])\n",
        "Y = np.array(Y)\n",
        "Z = []\n",
        "for item in points:\n",
        "  Z.append(item[2])\n",
        "Z = np.array(Z)"
      ],
      "metadata": {
        "colab": {
          "base_uri": "https://localhost:8080/"
        },
        "id": "QQeIEcEoDVFs",
        "outputId": "7a9e7b6e-beb4-478a-b14c-89c0a474f192"
      },
      "execution_count": null,
      "outputs": [
        {
          "output_type": "execute_result",
          "data": {
            "text/plain": [
              "array([0, 0, 0, 1, 0, 0, 2, 0, 1, 1, 0, 0, 1, 1, 2, 2, 0, 2, 2, 1, 1, 1,\n",
              "       2, 1, 2, 2, 2])"
            ]
          },
          "metadata": {},
          "execution_count": 15
        }
      ]
    },
    {
      "cell_type": "code",
      "source": [
        "# Specifying location of points \n",
        "corner = [(0,0,0),(0,0,2),(0,2,0),(2,0,0),(2,2,2),(2,2,0),(2,0,2),(0,2,2)]\n",
        "inside = [(1,1,1)]\n",
        "outside_center = [(1,0,1),(0,1,1),(1,2,1),(2,1,1),(1,1,0),(1,1,2)]\n",
        "outside_border = []\n",
        "for element in points:\n",
        "  if element not in corner:\n",
        "    if element not in inside:\n",
        "      if element not in outside_center:\n",
        "        outside_border.append(element)"
      ],
      "metadata": {
        "id": "fCNmuEoiDmX9"
      },
      "execution_count": null,
      "outputs": []
    },
    {
      "cell_type": "code",
      "source": [
        "# p is all possible transitions from one point to another point - 729 transitions\n",
        "p = []\n",
        "for element in points:\n",
        "  for el in points:\n",
        "    p.append((element, el))"
      ],
      "metadata": {
        "id": "JKqjcXJQD5OL"
      },
      "execution_count": null,
      "outputs": []
    },
    {
      "cell_type": "code",
      "source": [
        "# Transition matrix\n",
        "prob = []\n",
        "\n",
        "for element in p:\n",
        "  if element[0] in inside:\n",
        "    if (round(np.linalg.norm(np.array(element[0]) - np.array(element[1])),3) == 1):\n",
        "      probability = 1/6\n",
        "    else:\n",
        "      probability = 0 \n",
        "  if element[0] in corner:\n",
        "    if (round(np.linalg.norm(np.array(element[0]) - np.array(element[1])),3) == 1):\n",
        "      probability = 1/3\n",
        "    else: \n",
        "      probability = 0\n",
        "  if element[0] in outside_border:\n",
        "    if (round(np.linalg.norm(np.array(element[0]) - np.array(element[1])),3) == 1):\n",
        "      probability = 1/4\n",
        "    else: \n",
        "      probability = 0 \n",
        "  if element[0] in outside_center:\n",
        "    if (round(np.linalg.norm(np.array(element[0]) - np.array(element[1])),3) == 1):\n",
        "      probability = 1/5\n",
        "    else: \n",
        "      probability = 0 \n",
        "  prob.append(probability)\n",
        "P = np.array(prob).reshape((27,27))"
      ],
      "metadata": {
        "id": "lmJS_UdOEIVV"
      },
      "execution_count": null,
      "outputs": []
    },
    {
      "cell_type": "code",
      "source": [
        "# Probability array, given initial point (1 by 27 array) \n",
        "dictionary = dict({})\n",
        "i=1\n",
        "for item in points:\n",
        "  dictionary[i] = item\n",
        "  i = i+1\n",
        "\n",
        "A = np.linalg.matrix_power(P,n)\n",
        "keys = []\n",
        "for key, value in dictionary.items():\n",
        "    if(value == lookup_value):\n",
        "         keys.append(key)\n",
        "         number = np.array(keys)\n",
        "probabilities = A[number-1,:]"
      ],
      "metadata": {
        "id": "sOlhbNl8EBp0"
      },
      "execution_count": null,
      "outputs": []
    },
    {
      "cell_type": "code",
      "source": [
        "#Putting data in correct format for pltly\n",
        "\n",
        "df = pd.DataFrame({'X': X, 'Y': Y, 'Z':Z, 'Prob': probabilities[0]})\n",
        "df['Probabilities'] = df.apply(lambda row: round(row.Prob,3), axis=1)\n",
        "df.drop('Prob', inplace=True, axis=1)\n",
        "\n",
        "def annotation(row):\n",
        "  if (row['Probabilities'] > 0):\n",
        "    return row['Probabilities']\n",
        "\n",
        "df['Annotation'] = df.apply(lambda row: annotation(row), axis = 1)\n",
        "\n",
        "def categorise(row):  \n",
        "    if (row['Probabilities'] == 0):\n",
        "        return 'blue'\n",
        "    elif (row['Probabilities'] > 0):\n",
        "        return 'red'\n",
        "\n",
        "df['Colour'] = df.apply(lambda row: categorise(row), axis=1)\n",
        "maximum = df['Probabilities'].max()\n",
        "\n",
        "def size(row): # take min and max and rescale \n",
        "  return (20*row['Probabilities'])/maximum # we have defined 20 as the maximum size \n",
        "\n",
        "df['Size'] = df.apply(lambda row: size(row), axis=1)"
      ],
      "metadata": {
        "id": "6zosH4ZJEZXm"
      },
      "execution_count": null,
      "outputs": []
    },
    {
      "cell_type": "code",
      "source": [
        "import plotly.express as px\n",
        "fig = px.scatter_3d(df, x='X', y='Y', z='Z',\n",
        "              color='Colour', size='Size', text = 'Annotation',\n",
        "              opacity=0.7)\n",
        "\n",
        "# tight layout\n",
        "fig.update_layout(margin=dict(l=0, r=0, b=0, t=0))"
      ],
      "metadata": {
        "colab": {
          "base_uri": "https://localhost:8080/",
          "height": 542
        },
        "id": "wUgr7SCYFU7I",
        "outputId": "a1d0d441-0061-4914-c3c0-eac6a6d59eae"
      },
      "execution_count": null,
      "outputs": [
        {
          "output_type": "display_data",
          "data": {
            "text/html": [
              "<html>\n",
              "<head><meta charset=\"utf-8\" /></head>\n",
              "<body>\n",
              "    <div>            <script src=\"https://cdnjs.cloudflare.com/ajax/libs/mathjax/2.7.5/MathJax.js?config=TeX-AMS-MML_SVG\"></script><script type=\"text/javascript\">if (window.MathJax) {MathJax.Hub.Config({SVG: {font: \"STIX-Web\"}});}</script>                <script type=\"text/javascript\">window.PlotlyConfig = {MathJaxConfig: 'local'};</script>\n",
              "        <script src=\"https://cdn.plot.ly/plotly-2.8.3.min.js\"></script>                <div id=\"a85f9c72-0140-4447-af0a-c2f666de610b\" class=\"plotly-graph-div\" style=\"height:525px; width:100%;\"></div>            <script type=\"text/javascript\">                                    window.PLOTLYENV=window.PLOTLYENV || {};                                    if (document.getElementById(\"a85f9c72-0140-4447-af0a-c2f666de610b\")) {                    Plotly.newPlot(                        \"a85f9c72-0140-4447-af0a-c2f666de610b\",                        [{\"hovertemplate\":\"Colour=blue<br>X=%{x}<br>Y=%{y}<br>Z=%{z}<br>Size=%{marker.size}<br>Annotation=%{text}<extra></extra>\",\"legendgroup\":\"blue\",\"marker\":{\"color\":\"#636efa\",\"opacity\":0.7,\"size\":[0.0,0.0,0.0,0.0,0.0,0.0,0.0,0.0,0.0,0.0,0.0,0.0,0.0,0.0],\"sizemode\":\"area\",\"sizeref\":0.05,\"symbol\":\"circle\"},\"mode\":\"markers+text\",\"name\":\"blue\",\"scene\":\"scene\",\"showlegend\":true,\"text\":[null,null,null,null,null,null,null,null,null,null,null,null,null,null],\"x\":[0,0,0,2,0,1,1,0,2,2,1,1,2,2],\"y\":[0,0,2,0,1,0,1,2,0,2,1,2,1,2],\"z\":[0,2,0,0,1,1,0,2,2,0,2,1,1,2],\"type\":\"scatter3d\"},{\"hovertemplate\":\"Colour=red<br>X=%{x}<br>Y=%{y}<br>Z=%{z}<br>Size=%{marker.size}<br>Annotation=%{text}<extra></extra>\",\"legendgroup\":\"red\",\"marker\":{\"color\":\"#EF553B\",\"opacity\":0.7,\"size\":[13.333333333333332,13.333333333333332,13.333333333333332,13.333333333333332,13.333333333333332,13.333333333333332,13.333333333333332,13.333333333333332,13.333333333333332,20.0,13.333333333333332,13.333333333333332,13.333333333333332],\"sizemode\":\"area\",\"sizeref\":0.05,\"symbol\":\"circle\"},\"mode\":\"markers+text\",\"name\":\"red\",\"scene\":\"scene\",\"showlegend\":true,\"text\":[0.074,0.074,0.074,0.074,0.074,0.074,0.074,0.074,0.074,0.111,0.074,0.074,0.074],\"x\":[0,0,1,0,0,1,1,2,2,1,1,2,2],\"y\":[0,1,0,1,2,0,2,0,1,1,2,1,2],\"z\":[1,0,0,2,1,2,0,1,0,1,2,2,1],\"type\":\"scatter3d\"}],                        {\"template\":{\"data\":{\"bar\":[{\"error_x\":{\"color\":\"#2a3f5f\"},\"error_y\":{\"color\":\"#2a3f5f\"},\"marker\":{\"line\":{\"color\":\"#E5ECF6\",\"width\":0.5},\"pattern\":{\"fillmode\":\"overlay\",\"size\":10,\"solidity\":0.2}},\"type\":\"bar\"}],\"barpolar\":[{\"marker\":{\"line\":{\"color\":\"#E5ECF6\",\"width\":0.5},\"pattern\":{\"fillmode\":\"overlay\",\"size\":10,\"solidity\":0.2}},\"type\":\"barpolar\"}],\"carpet\":[{\"aaxis\":{\"endlinecolor\":\"#2a3f5f\",\"gridcolor\":\"white\",\"linecolor\":\"white\",\"minorgridcolor\":\"white\",\"startlinecolor\":\"#2a3f5f\"},\"baxis\":{\"endlinecolor\":\"#2a3f5f\",\"gridcolor\":\"white\",\"linecolor\":\"white\",\"minorgridcolor\":\"white\",\"startlinecolor\":\"#2a3f5f\"},\"type\":\"carpet\"}],\"choropleth\":[{\"colorbar\":{\"outlinewidth\":0,\"ticks\":\"\"},\"type\":\"choropleth\"}],\"contour\":[{\"colorbar\":{\"outlinewidth\":0,\"ticks\":\"\"},\"colorscale\":[[0.0,\"#0d0887\"],[0.1111111111111111,\"#46039f\"],[0.2222222222222222,\"#7201a8\"],[0.3333333333333333,\"#9c179e\"],[0.4444444444444444,\"#bd3786\"],[0.5555555555555556,\"#d8576b\"],[0.6666666666666666,\"#ed7953\"],[0.7777777777777778,\"#fb9f3a\"],[0.8888888888888888,\"#fdca26\"],[1.0,\"#f0f921\"]],\"type\":\"contour\"}],\"contourcarpet\":[{\"colorbar\":{\"outlinewidth\":0,\"ticks\":\"\"},\"type\":\"contourcarpet\"}],\"heatmap\":[{\"colorbar\":{\"outlinewidth\":0,\"ticks\":\"\"},\"colorscale\":[[0.0,\"#0d0887\"],[0.1111111111111111,\"#46039f\"],[0.2222222222222222,\"#7201a8\"],[0.3333333333333333,\"#9c179e\"],[0.4444444444444444,\"#bd3786\"],[0.5555555555555556,\"#d8576b\"],[0.6666666666666666,\"#ed7953\"],[0.7777777777777778,\"#fb9f3a\"],[0.8888888888888888,\"#fdca26\"],[1.0,\"#f0f921\"]],\"type\":\"heatmap\"}],\"heatmapgl\":[{\"colorbar\":{\"outlinewidth\":0,\"ticks\":\"\"},\"colorscale\":[[0.0,\"#0d0887\"],[0.1111111111111111,\"#46039f\"],[0.2222222222222222,\"#7201a8\"],[0.3333333333333333,\"#9c179e\"],[0.4444444444444444,\"#bd3786\"],[0.5555555555555556,\"#d8576b\"],[0.6666666666666666,\"#ed7953\"],[0.7777777777777778,\"#fb9f3a\"],[0.8888888888888888,\"#fdca26\"],[1.0,\"#f0f921\"]],\"type\":\"heatmapgl\"}],\"histogram\":[{\"marker\":{\"pattern\":{\"fillmode\":\"overlay\",\"size\":10,\"solidity\":0.2}},\"type\":\"histogram\"}],\"histogram2d\":[{\"colorbar\":{\"outlinewidth\":0,\"ticks\":\"\"},\"colorscale\":[[0.0,\"#0d0887\"],[0.1111111111111111,\"#46039f\"],[0.2222222222222222,\"#7201a8\"],[0.3333333333333333,\"#9c179e\"],[0.4444444444444444,\"#bd3786\"],[0.5555555555555556,\"#d8576b\"],[0.6666666666666666,\"#ed7953\"],[0.7777777777777778,\"#fb9f3a\"],[0.8888888888888888,\"#fdca26\"],[1.0,\"#f0f921\"]],\"type\":\"histogram2d\"}],\"histogram2dcontour\":[{\"colorbar\":{\"outlinewidth\":0,\"ticks\":\"\"},\"colorscale\":[[0.0,\"#0d0887\"],[0.1111111111111111,\"#46039f\"],[0.2222222222222222,\"#7201a8\"],[0.3333333333333333,\"#9c179e\"],[0.4444444444444444,\"#bd3786\"],[0.5555555555555556,\"#d8576b\"],[0.6666666666666666,\"#ed7953\"],[0.7777777777777778,\"#fb9f3a\"],[0.8888888888888888,\"#fdca26\"],[1.0,\"#f0f921\"]],\"type\":\"histogram2dcontour\"}],\"mesh3d\":[{\"colorbar\":{\"outlinewidth\":0,\"ticks\":\"\"},\"type\":\"mesh3d\"}],\"parcoords\":[{\"line\":{\"colorbar\":{\"outlinewidth\":0,\"ticks\":\"\"}},\"type\":\"parcoords\"}],\"pie\":[{\"automargin\":true,\"type\":\"pie\"}],\"scatter\":[{\"marker\":{\"colorbar\":{\"outlinewidth\":0,\"ticks\":\"\"}},\"type\":\"scatter\"}],\"scatter3d\":[{\"line\":{\"colorbar\":{\"outlinewidth\":0,\"ticks\":\"\"}},\"marker\":{\"colorbar\":{\"outlinewidth\":0,\"ticks\":\"\"}},\"type\":\"scatter3d\"}],\"scattercarpet\":[{\"marker\":{\"colorbar\":{\"outlinewidth\":0,\"ticks\":\"\"}},\"type\":\"scattercarpet\"}],\"scattergeo\":[{\"marker\":{\"colorbar\":{\"outlinewidth\":0,\"ticks\":\"\"}},\"type\":\"scattergeo\"}],\"scattergl\":[{\"marker\":{\"colorbar\":{\"outlinewidth\":0,\"ticks\":\"\"}},\"type\":\"scattergl\"}],\"scattermapbox\":[{\"marker\":{\"colorbar\":{\"outlinewidth\":0,\"ticks\":\"\"}},\"type\":\"scattermapbox\"}],\"scatterpolar\":[{\"marker\":{\"colorbar\":{\"outlinewidth\":0,\"ticks\":\"\"}},\"type\":\"scatterpolar\"}],\"scatterpolargl\":[{\"marker\":{\"colorbar\":{\"outlinewidth\":0,\"ticks\":\"\"}},\"type\":\"scatterpolargl\"}],\"scatterternary\":[{\"marker\":{\"colorbar\":{\"outlinewidth\":0,\"ticks\":\"\"}},\"type\":\"scatterternary\"}],\"surface\":[{\"colorbar\":{\"outlinewidth\":0,\"ticks\":\"\"},\"colorscale\":[[0.0,\"#0d0887\"],[0.1111111111111111,\"#46039f\"],[0.2222222222222222,\"#7201a8\"],[0.3333333333333333,\"#9c179e\"],[0.4444444444444444,\"#bd3786\"],[0.5555555555555556,\"#d8576b\"],[0.6666666666666666,\"#ed7953\"],[0.7777777777777778,\"#fb9f3a\"],[0.8888888888888888,\"#fdca26\"],[1.0,\"#f0f921\"]],\"type\":\"surface\"}],\"table\":[{\"cells\":{\"fill\":{\"color\":\"#EBF0F8\"},\"line\":{\"color\":\"white\"}},\"header\":{\"fill\":{\"color\":\"#C8D4E3\"},\"line\":{\"color\":\"white\"}},\"type\":\"table\"}]},\"layout\":{\"annotationdefaults\":{\"arrowcolor\":\"#2a3f5f\",\"arrowhead\":0,\"arrowwidth\":1},\"autotypenumbers\":\"strict\",\"coloraxis\":{\"colorbar\":{\"outlinewidth\":0,\"ticks\":\"\"}},\"colorscale\":{\"diverging\":[[0,\"#8e0152\"],[0.1,\"#c51b7d\"],[0.2,\"#de77ae\"],[0.3,\"#f1b6da\"],[0.4,\"#fde0ef\"],[0.5,\"#f7f7f7\"],[0.6,\"#e6f5d0\"],[0.7,\"#b8e186\"],[0.8,\"#7fbc41\"],[0.9,\"#4d9221\"],[1,\"#276419\"]],\"sequential\":[[0.0,\"#0d0887\"],[0.1111111111111111,\"#46039f\"],[0.2222222222222222,\"#7201a8\"],[0.3333333333333333,\"#9c179e\"],[0.4444444444444444,\"#bd3786\"],[0.5555555555555556,\"#d8576b\"],[0.6666666666666666,\"#ed7953\"],[0.7777777777777778,\"#fb9f3a\"],[0.8888888888888888,\"#fdca26\"],[1.0,\"#f0f921\"]],\"sequentialminus\":[[0.0,\"#0d0887\"],[0.1111111111111111,\"#46039f\"],[0.2222222222222222,\"#7201a8\"],[0.3333333333333333,\"#9c179e\"],[0.4444444444444444,\"#bd3786\"],[0.5555555555555556,\"#d8576b\"],[0.6666666666666666,\"#ed7953\"],[0.7777777777777778,\"#fb9f3a\"],[0.8888888888888888,\"#fdca26\"],[1.0,\"#f0f921\"]]},\"colorway\":[\"#636efa\",\"#EF553B\",\"#00cc96\",\"#ab63fa\",\"#FFA15A\",\"#19d3f3\",\"#FF6692\",\"#B6E880\",\"#FF97FF\",\"#FECB52\"],\"font\":{\"color\":\"#2a3f5f\"},\"geo\":{\"bgcolor\":\"white\",\"lakecolor\":\"white\",\"landcolor\":\"#E5ECF6\",\"showlakes\":true,\"showland\":true,\"subunitcolor\":\"white\"},\"hoverlabel\":{\"align\":\"left\"},\"hovermode\":\"closest\",\"mapbox\":{\"style\":\"light\"},\"paper_bgcolor\":\"white\",\"plot_bgcolor\":\"#E5ECF6\",\"polar\":{\"angularaxis\":{\"gridcolor\":\"white\",\"linecolor\":\"white\",\"ticks\":\"\"},\"bgcolor\":\"#E5ECF6\",\"radialaxis\":{\"gridcolor\":\"white\",\"linecolor\":\"white\",\"ticks\":\"\"}},\"scene\":{\"xaxis\":{\"backgroundcolor\":\"#E5ECF6\",\"gridcolor\":\"white\",\"gridwidth\":2,\"linecolor\":\"white\",\"showbackground\":true,\"ticks\":\"\",\"zerolinecolor\":\"white\"},\"yaxis\":{\"backgroundcolor\":\"#E5ECF6\",\"gridcolor\":\"white\",\"gridwidth\":2,\"linecolor\":\"white\",\"showbackground\":true,\"ticks\":\"\",\"zerolinecolor\":\"white\"},\"zaxis\":{\"backgroundcolor\":\"#E5ECF6\",\"gridcolor\":\"white\",\"gridwidth\":2,\"linecolor\":\"white\",\"showbackground\":true,\"ticks\":\"\",\"zerolinecolor\":\"white\"}},\"shapedefaults\":{\"line\":{\"color\":\"#2a3f5f\"}},\"ternary\":{\"aaxis\":{\"gridcolor\":\"white\",\"linecolor\":\"white\",\"ticks\":\"\"},\"baxis\":{\"gridcolor\":\"white\",\"linecolor\":\"white\",\"ticks\":\"\"},\"bgcolor\":\"#E5ECF6\",\"caxis\":{\"gridcolor\":\"white\",\"linecolor\":\"white\",\"ticks\":\"\"}},\"title\":{\"x\":0.05},\"xaxis\":{\"automargin\":true,\"gridcolor\":\"white\",\"linecolor\":\"white\",\"ticks\":\"\",\"title\":{\"standoff\":15},\"zerolinecolor\":\"white\",\"zerolinewidth\":2},\"yaxis\":{\"automargin\":true,\"gridcolor\":\"white\",\"linecolor\":\"white\",\"ticks\":\"\",\"title\":{\"standoff\":15},\"zerolinecolor\":\"white\",\"zerolinewidth\":2}}},\"scene\":{\"domain\":{\"x\":[0.0,1.0],\"y\":[0.0,1.0]},\"xaxis\":{\"title\":{\"text\":\"X\"}},\"yaxis\":{\"title\":{\"text\":\"Y\"}},\"zaxis\":{\"title\":{\"text\":\"Z\"}}},\"legend\":{\"title\":{\"text\":\"Colour\"},\"tracegroupgap\":0,\"itemsizing\":\"constant\"},\"margin\":{\"t\":0,\"l\":0,\"r\":0,\"b\":0}},                        {\"responsive\": true}                    ).then(function(){\n",
              "                            \n",
              "var gd = document.getElementById('a85f9c72-0140-4447-af0a-c2f666de610b');\n",
              "var x = new MutationObserver(function (mutations, observer) {{\n",
              "        var display = window.getComputedStyle(gd).display;\n",
              "        if (!display || display === 'none') {{\n",
              "            console.log([gd, 'removed!']);\n",
              "            Plotly.purge(gd);\n",
              "            observer.disconnect();\n",
              "        }}\n",
              "}});\n",
              "\n",
              "// Listen for the removal of the full notebook cells\n",
              "var notebookContainer = gd.closest('#notebook-container');\n",
              "if (notebookContainer) {{\n",
              "    x.observe(notebookContainer, {childList: true});\n",
              "}}\n",
              "\n",
              "// Listen for the clearing of the current output cell\n",
              "var outputEl = gd.closest('.output');\n",
              "if (outputEl) {{\n",
              "    x.observe(outputEl, {childList: true});\n",
              "}}\n",
              "\n",
              "                        })                };                            </script>        </div>\n",
              "</body>\n",
              "</html>"
            ]
          },
          "metadata": {}
        }
      ]
    },
    {
      "cell_type": "code",
      "source": [],
      "metadata": {
        "colab": {
          "base_uri": "https://localhost:8080/"
        },
        "id": "KHYEdI2vEB8j",
        "outputId": "40c6110c-d07f-4f17-eee7-a53f1f53675b"
      },
      "execution_count": null,
      "outputs": [
        {
          "output_type": "execute_result",
          "data": {
            "text/plain": [
              "array([0, 0, 0, 1, 0, 0, 2, 0, 1, 1, 0, 0, 1, 1, 2, 2, 0, 2, 2, 1, 1, 1,\n",
              "       2, 1, 2, 2, 2])"
            ]
          },
          "metadata": {},
          "execution_count": 33
        }
      ]
    },
    {
      "cell_type": "code",
      "source": [],
      "metadata": {
        "id": "SXgb9YtgFFQJ"
      },
      "execution_count": null,
      "outputs": []
    },
    {
      "cell_type": "code",
      "source": [],
      "metadata": {
        "id": "WZU3Tll_Lo91"
      },
      "execution_count": null,
      "outputs": []
    },
    {
      "cell_type": "markdown",
      "source": [
        "# 3D plotly - 5 by 5"
      ],
      "metadata": {
        "id": "5y0Z5oPyLpNj"
      }
    },
    {
      "cell_type": "code",
      "source": [
        "# Create all permutations of 0,1,2 for 3D space \n",
        "from itertools import permutations\n",
        "import numpy as np\n",
        "import pandas as pd\n",
        "import math \n",
        "import scipy.linalg as la\n",
        "import matplotlib.pyplot as plt\n",
        "from itertools import permutations\n",
        "from itertools import combinations_with_replacement\n",
        "from matplotlib.pyplot import figure, show\n",
        "\n",
        "n = input(\"Enter the number of steps: \"); # specify the number of steps\n",
        "n = int(n)\n",
        "\n",
        "lookup_value = input(\"Please enter coordinate in the form 3,4,3 for (3,4,3)\");\n",
        "lookup_value = tuple(map(int, lookup_value.split(',')))\n",
        "\n",
        "combinations = []\n",
        "p = []\n",
        "comb = combinations_with_replacement([0,1,2,3,4],3)\n",
        "for item in comb:\n",
        "  combinations.append(item)\n",
        "for item in combinations:\n",
        "  point = permutations(item)\n",
        "  for item in point:\n",
        "    p.append(item)\n",
        "\n",
        "points = []\n",
        "for item in p:\n",
        "  if item not in points:\n",
        "    points.append(item)\n",
        "\n",
        "X = []\n",
        "for item in points:\n",
        "  X.append(item[0])\n",
        "X = np.array(X)\n",
        "Y = []\n",
        "for item in points:\n",
        "  Y.append(item[1])\n",
        "Y = np.array(Y)\n",
        "Z = []\n",
        "for item in points:\n",
        "  Z.append(item[2])\n",
        "Z = np.array(Z)\n",
        "\n",
        "# Specifying location of points \n",
        "corner = []\n",
        "corner = [(0,0,0),(0,0,4),(0,4,0),(4,0,0),(4,4,4),(4,4,0),(4,0,4),(0,4,4)] # done \n",
        "\n",
        "inside = []\n",
        "for item in points:\n",
        "  if (item[0] != 0) and (item[0] != 4) and (item[1] != 0) and (item[1] != 4) and (item[2] != 0) and (item[2] != 4):\n",
        "    inside.append(item) # done \n",
        "\n",
        "outside_border = []\n",
        "for item in points:\n",
        "  if item not in corner:\n",
        "    if item not in inside:\n",
        "      count = 0\n",
        "      for i in range(3):\n",
        "        if (item[i] == 0) or (item[i] == 4):\n",
        "          count = count+1\n",
        "      if (count == 2):\n",
        "        outside_border.append(item)\n",
        "\n",
        "outside_centre = []\n",
        "for item in points:\n",
        "  if item not in corner:\n",
        "    if item not in inside:\n",
        "      if item not in outside_border:\n",
        "        outside_centre.append(item)\n",
        "\n",
        "# p is all possible transitions from one point to another point - 15,625 transitions\n",
        "p = []\n",
        "for element in points:\n",
        "  for el in points:\n",
        "    p.append((element, el))\n",
        "\n",
        "\n",
        "# Transition matrix\n",
        "prob = []\n",
        "\n",
        "for element in p:\n",
        "  if element[0] in inside:\n",
        "    if (round(np.linalg.norm(np.array(element[0]) - np.array(element[1])),3) == 1):\n",
        "      probability = 1/6\n",
        "    else:\n",
        "      probability = 0 \n",
        "  if element[0] in corner:\n",
        "    if (round(np.linalg.norm(np.array(element[0]) - np.array(element[1])),3) == 1):\n",
        "      probability = 1/3\n",
        "    else: \n",
        "      probability = 0\n",
        "  if element[0] in outside_border:\n",
        "    if (round(np.linalg.norm(np.array(element[0]) - np.array(element[1])),3) == 1):\n",
        "      probability = 1/4\n",
        "    else: \n",
        "      probability = 0 \n",
        "  if element[0] in outside_centre:\n",
        "    if (round(np.linalg.norm(np.array(element[0]) - np.array(element[1])),3) == 1):\n",
        "      probability = 1/5\n",
        "    else: \n",
        "      probability = 0 \n",
        "  prob.append(probability)\n",
        "P = np.array(prob).reshape((125,125))\n",
        "\n",
        "# Probability array, given initial point (1 by 27 array) \n",
        "dictionary = dict({})\n",
        "i=1\n",
        "for item in points:\n",
        "  dictionary[i] = item\n",
        "  i = i+1\n",
        "\n",
        "A = np.linalg.matrix_power(P,n)\n",
        "keys = []\n",
        "for key, value in dictionary.items():\n",
        "    if(value == lookup_value):\n",
        "         keys.append(key)\n",
        "         number = np.array(keys)\n",
        "probabilities = A[number-1,:]\n",
        "\n",
        "#Putting data in correct format for pltly\n",
        "\n",
        "df = pd.DataFrame({'X': X, 'Y': Y, 'Z':Z, 'Prob': probabilities[0]})\n",
        "df['Probabilities'] = df.apply(lambda row: round(row.Prob,3), axis=1)\n",
        "df.drop('Prob', inplace=True, axis=1)\n",
        "\n",
        "def annotation(row):\n",
        "  if (row['Probabilities'] > 0):\n",
        "    return row['Probabilities']\n",
        "\n",
        "df['Annotation'] = df.apply(lambda row: annotation(row), axis = 1)\n",
        "\n",
        "def categorise(row):  \n",
        "    if (row['Probabilities'] == 0):\n",
        "        return 'blue'\n",
        "    elif (row['Probabilities'] > 0):\n",
        "        return 'red'\n",
        "\n",
        "df['Colour'] = df.apply(lambda row: categorise(row), axis=1)\n",
        "maximum = df['Probabilities'].max()\n",
        "\n",
        "def size(row): # take min and max and rescale \n",
        "  return (20*row['Probabilities'])/maximum # we have defined 20 as the maximum size \n",
        "\n",
        "df['Size'] = df.apply(lambda row: size(row), axis=1)\n",
        "df.at[int(np.array(keys))-1, 'Colour'] = 'green'\n",
        "df.at[int(np.array(keys))-1, 'Size'] = 15\n",
        "\n",
        "import plotly.express as px\n",
        "fig = px.scatter_3d(df, x='X', y='Y', z='Z',\n",
        "              color='Colour', size='Size', text = 'Annotation',\n",
        "              opacity=0.7)\n",
        "\n",
        "# tight layout\n",
        "fig.update_layout(margin=dict(l=0, r=0, b=0, t=40),title_text='Movement of molecules')"
      ],
      "metadata": {
        "colab": {
          "base_uri": "https://localhost:8080/",
          "height": 578
        },
        "id": "LIjXep9mLvS9",
        "outputId": "e4a4a276-1da4-44d6-c6e1-edc7f2390728"
      },
      "execution_count": null,
      "outputs": [
        {
          "name": "stdout",
          "output_type": "stream",
          "text": [
            "Enter the number of steps: 3\n",
            "Please enter coordinate in the form 3,4,3 for (3,4,3)1,2,3\n"
          ]
        },
        {
          "output_type": "display_data",
          "data": {
            "text/html": [
              "<html>\n",
              "<head><meta charset=\"utf-8\" /></head>\n",
              "<body>\n",
              "    <div>            <script src=\"https://cdnjs.cloudflare.com/ajax/libs/mathjax/2.7.5/MathJax.js?config=TeX-AMS-MML_SVG\"></script><script type=\"text/javascript\">if (window.MathJax) {MathJax.Hub.Config({SVG: {font: \"STIX-Web\"}});}</script>                <script type=\"text/javascript\">window.PlotlyConfig = {MathJaxConfig: 'local'};</script>\n",
              "        <script src=\"https://cdn.plot.ly/plotly-2.8.3.min.js\"></script>                <div id=\"ca81511b-3b5b-435d-b360-b902060666d2\" class=\"plotly-graph-div\" style=\"height:525px; width:100%;\"></div>            <script type=\"text/javascript\">                                    window.PLOTLYENV=window.PLOTLYENV || {};                                    if (document.getElementById(\"ca81511b-3b5b-435d-b360-b902060666d2\")) {                    Plotly.newPlot(                        \"ca81511b-3b5b-435d-b360-b902060666d2\",                        [{\"hovertemplate\":\"Colour=blue<br>X=%{x}<br>Y=%{y}<br>Z=%{z}<br>Size=%{marker.size}<br>Annotation=%{text}<extra></extra>\",\"legendgroup\":\"blue\",\"marker\":{\"color\":\"#636efa\",\"opacity\":0.7,\"size\":[0.0,0.0,0.0,0.0,0.0,0.0,0.0,0.0,0.0,0.0,0.0,0.0,0.0,0.0,0.0,0.0,0.0,0.0,0.0,0.0,0.0,0.0,0.0,0.0,0.0,0.0,0.0,0.0,0.0,0.0,0.0,0.0,0.0,0.0,0.0,0.0,0.0,0.0,0.0,0.0,0.0,0.0,0.0,0.0,0.0,0.0,0.0,0.0,0.0,0.0,0.0,0.0,0.0,0.0,0.0,0.0,0.0,0.0,0.0,0.0,0.0,0.0,0.0,0.0,0.0,0.0,0.0,0.0,0.0,0.0,0.0,0.0,0.0,0.0,0.0,0.0,0.0,0.0,0.0,0.0,0.0,0.0,0.0,0.0,0.0,0.0,0.0,0.0,0.0,0.0,0.0,0.0],\"sizemode\":\"area\",\"sizeref\":0.05,\"symbol\":\"circle\"},\"mode\":\"markers+text\",\"name\":\"blue\",\"scene\":\"scene\",\"showlegend\":true,\"text\":[null,null,null,null,null,null,null,null,null,null,null,null,null,null,null,null,null,null,null,null,null,null,null,null,null,null,null,null,null,null,null,null,null,null,null,null,null,null,null,null,null,null,null,null,null,null,null,null,null,null,null,null,null,null,null,null,null,null,null,null,null,null,null,null,null,null,null,null,null,null,null,null,null,null,null,null,null,null,null,null,null,null,null,null,null,null,null,null,null,null,null,null],\"x\":[0,0,0,1,0,0,2,0,3,0,0,4,0,1,1,2,2,0,0,1,1,3,3,0,1,4,4,0,2,2,2,3,3,0,0,2,2,4,4,0,3,3,3,3,4,4,0,4,4,1,1,2,3,1,1,4,1,2,2,3,3,2,4,4,3,1,1,3,3,4,4,4,4,2,2,2,4,2,3,3,3,4,2,4,4,3,3,4,3,4,4,4],\"y\":[0,0,1,0,0,2,0,3,0,0,4,0,1,0,1,0,1,1,3,0,3,0,1,4,4,0,1,2,0,2,3,0,2,2,4,0,4,0,2,3,0,3,0,4,0,3,4,0,4,1,2,1,1,1,4,1,3,1,3,1,2,4,1,2,3,3,4,1,4,1,3,1,4,2,2,4,2,3,2,3,4,3,4,2,4,3,4,3,4,3,4,4],\"z\":[0,1,0,0,2,0,0,0,0,4,0,0,1,1,0,1,0,3,1,3,0,1,0,1,0,1,0,2,2,0,0,2,0,4,2,4,0,2,0,3,3,0,4,0,3,0,4,4,0,2,1,1,1,4,1,1,2,3,1,2,1,1,2,1,1,4,3,4,1,3,1,4,1,2,4,2,2,3,3,2,2,2,4,4,2,4,3,3,4,4,3,4],\"type\":\"scatter3d\"},{\"hovertemplate\":\"Colour=red<br>X=%{x}<br>Y=%{y}<br>Z=%{z}<br>Size=%{marker.size}<br>Annotation=%{text}<extra></extra>\",\"legendgroup\":\"red\",\"marker\":{\"color\":\"#EF553B\",\"opacity\":0.7,\"size\":[4.337349397590361,8.19277108433735,4.096385542168675,3.614457831325301,1.2048192771084338,9.879518072289157,4.337349397590361,20.0,8.19277108433735,3.614457831325301,9.879518072289157,4.337349397590361,3.3734939759036147,18.795180722891565,3.3734939759036147,17.831325301204817,6.746987951807229,3.3734939759036147,20.0,3.614457831325301,8.19277108433735,18.795180722891565,3.3734939759036147,4.337349397590361,17.831325301204817,6.746987951807229,3.3734939759036147,8.19277108433735,3.614457831325301,4.096385542168675,1.2048192771084338,3.3734939759036147],\"sizemode\":\"area\",\"sizeref\":0.05,\"symbol\":\"circle\"},\"mode\":\"markers+text\",\"name\":\"red\",\"scene\":\"scene\",\"showlegend\":true,\"text\":[0.018,0.034,0.017,0.015,0.005,0.041,0.018,0.083,0.034,0.015,0.041,0.018,0.014,0.078,0.014,0.074,0.028,0.014,0.083,0.015,0.034,0.078,0.014,0.018,0.074,0.028,0.014,0.034,0.015,0.017,0.005,0.014],\"x\":[0,0,0,1,1,0,1,0,0,2,0,0,1,1,1,1,2,2,1,1,2,1,3,1,2,2,3,2,2,3,4,3],\"y\":[0,1,2,0,2,1,0,2,3,0,3,4,1,1,3,2,1,2,2,4,1,3,1,4,2,3,2,3,4,2,2,3],\"z\":[3,2,1,2,0,4,4,3,2,3,4,3,1,3,1,2,2,1,4,2,4,3,3,4,3,2,2,4,3,4,3,3],\"type\":\"scatter3d\"},{\"hovertemplate\":\"Colour=green<br>X=%{x}<br>Y=%{y}<br>Z=%{z}<br>Size=%{marker.size}<br>Annotation=%{text}<extra></extra>\",\"legendgroup\":\"green\",\"marker\":{\"color\":\"#00cc96\",\"opacity\":0.7,\"size\":[15.0],\"sizemode\":\"area\",\"sizeref\":0.05,\"symbol\":\"circle\"},\"mode\":\"markers+text\",\"name\":\"green\",\"scene\":\"scene\",\"showlegend\":true,\"text\":[null],\"x\":[1],\"y\":[2],\"z\":[3],\"type\":\"scatter3d\"}],                        {\"template\":{\"data\":{\"bar\":[{\"error_x\":{\"color\":\"#2a3f5f\"},\"error_y\":{\"color\":\"#2a3f5f\"},\"marker\":{\"line\":{\"color\":\"#E5ECF6\",\"width\":0.5},\"pattern\":{\"fillmode\":\"overlay\",\"size\":10,\"solidity\":0.2}},\"type\":\"bar\"}],\"barpolar\":[{\"marker\":{\"line\":{\"color\":\"#E5ECF6\",\"width\":0.5},\"pattern\":{\"fillmode\":\"overlay\",\"size\":10,\"solidity\":0.2}},\"type\":\"barpolar\"}],\"carpet\":[{\"aaxis\":{\"endlinecolor\":\"#2a3f5f\",\"gridcolor\":\"white\",\"linecolor\":\"white\",\"minorgridcolor\":\"white\",\"startlinecolor\":\"#2a3f5f\"},\"baxis\":{\"endlinecolor\":\"#2a3f5f\",\"gridcolor\":\"white\",\"linecolor\":\"white\",\"minorgridcolor\":\"white\",\"startlinecolor\":\"#2a3f5f\"},\"type\":\"carpet\"}],\"choropleth\":[{\"colorbar\":{\"outlinewidth\":0,\"ticks\":\"\"},\"type\":\"choropleth\"}],\"contour\":[{\"colorbar\":{\"outlinewidth\":0,\"ticks\":\"\"},\"colorscale\":[[0.0,\"#0d0887\"],[0.1111111111111111,\"#46039f\"],[0.2222222222222222,\"#7201a8\"],[0.3333333333333333,\"#9c179e\"],[0.4444444444444444,\"#bd3786\"],[0.5555555555555556,\"#d8576b\"],[0.6666666666666666,\"#ed7953\"],[0.7777777777777778,\"#fb9f3a\"],[0.8888888888888888,\"#fdca26\"],[1.0,\"#f0f921\"]],\"type\":\"contour\"}],\"contourcarpet\":[{\"colorbar\":{\"outlinewidth\":0,\"ticks\":\"\"},\"type\":\"contourcarpet\"}],\"heatmap\":[{\"colorbar\":{\"outlinewidth\":0,\"ticks\":\"\"},\"colorscale\":[[0.0,\"#0d0887\"],[0.1111111111111111,\"#46039f\"],[0.2222222222222222,\"#7201a8\"],[0.3333333333333333,\"#9c179e\"],[0.4444444444444444,\"#bd3786\"],[0.5555555555555556,\"#d8576b\"],[0.6666666666666666,\"#ed7953\"],[0.7777777777777778,\"#fb9f3a\"],[0.8888888888888888,\"#fdca26\"],[1.0,\"#f0f921\"]],\"type\":\"heatmap\"}],\"heatmapgl\":[{\"colorbar\":{\"outlinewidth\":0,\"ticks\":\"\"},\"colorscale\":[[0.0,\"#0d0887\"],[0.1111111111111111,\"#46039f\"],[0.2222222222222222,\"#7201a8\"],[0.3333333333333333,\"#9c179e\"],[0.4444444444444444,\"#bd3786\"],[0.5555555555555556,\"#d8576b\"],[0.6666666666666666,\"#ed7953\"],[0.7777777777777778,\"#fb9f3a\"],[0.8888888888888888,\"#fdca26\"],[1.0,\"#f0f921\"]],\"type\":\"heatmapgl\"}],\"histogram\":[{\"marker\":{\"pattern\":{\"fillmode\":\"overlay\",\"size\":10,\"solidity\":0.2}},\"type\":\"histogram\"}],\"histogram2d\":[{\"colorbar\":{\"outlinewidth\":0,\"ticks\":\"\"},\"colorscale\":[[0.0,\"#0d0887\"],[0.1111111111111111,\"#46039f\"],[0.2222222222222222,\"#7201a8\"],[0.3333333333333333,\"#9c179e\"],[0.4444444444444444,\"#bd3786\"],[0.5555555555555556,\"#d8576b\"],[0.6666666666666666,\"#ed7953\"],[0.7777777777777778,\"#fb9f3a\"],[0.8888888888888888,\"#fdca26\"],[1.0,\"#f0f921\"]],\"type\":\"histogram2d\"}],\"histogram2dcontour\":[{\"colorbar\":{\"outlinewidth\":0,\"ticks\":\"\"},\"colorscale\":[[0.0,\"#0d0887\"],[0.1111111111111111,\"#46039f\"],[0.2222222222222222,\"#7201a8\"],[0.3333333333333333,\"#9c179e\"],[0.4444444444444444,\"#bd3786\"],[0.5555555555555556,\"#d8576b\"],[0.6666666666666666,\"#ed7953\"],[0.7777777777777778,\"#fb9f3a\"],[0.8888888888888888,\"#fdca26\"],[1.0,\"#f0f921\"]],\"type\":\"histogram2dcontour\"}],\"mesh3d\":[{\"colorbar\":{\"outlinewidth\":0,\"ticks\":\"\"},\"type\":\"mesh3d\"}],\"parcoords\":[{\"line\":{\"colorbar\":{\"outlinewidth\":0,\"ticks\":\"\"}},\"type\":\"parcoords\"}],\"pie\":[{\"automargin\":true,\"type\":\"pie\"}],\"scatter\":[{\"marker\":{\"colorbar\":{\"outlinewidth\":0,\"ticks\":\"\"}},\"type\":\"scatter\"}],\"scatter3d\":[{\"line\":{\"colorbar\":{\"outlinewidth\":0,\"ticks\":\"\"}},\"marker\":{\"colorbar\":{\"outlinewidth\":0,\"ticks\":\"\"}},\"type\":\"scatter3d\"}],\"scattercarpet\":[{\"marker\":{\"colorbar\":{\"outlinewidth\":0,\"ticks\":\"\"}},\"type\":\"scattercarpet\"}],\"scattergeo\":[{\"marker\":{\"colorbar\":{\"outlinewidth\":0,\"ticks\":\"\"}},\"type\":\"scattergeo\"}],\"scattergl\":[{\"marker\":{\"colorbar\":{\"outlinewidth\":0,\"ticks\":\"\"}},\"type\":\"scattergl\"}],\"scattermapbox\":[{\"marker\":{\"colorbar\":{\"outlinewidth\":0,\"ticks\":\"\"}},\"type\":\"scattermapbox\"}],\"scatterpolar\":[{\"marker\":{\"colorbar\":{\"outlinewidth\":0,\"ticks\":\"\"}},\"type\":\"scatterpolar\"}],\"scatterpolargl\":[{\"marker\":{\"colorbar\":{\"outlinewidth\":0,\"ticks\":\"\"}},\"type\":\"scatterpolargl\"}],\"scatterternary\":[{\"marker\":{\"colorbar\":{\"outlinewidth\":0,\"ticks\":\"\"}},\"type\":\"scatterternary\"}],\"surface\":[{\"colorbar\":{\"outlinewidth\":0,\"ticks\":\"\"},\"colorscale\":[[0.0,\"#0d0887\"],[0.1111111111111111,\"#46039f\"],[0.2222222222222222,\"#7201a8\"],[0.3333333333333333,\"#9c179e\"],[0.4444444444444444,\"#bd3786\"],[0.5555555555555556,\"#d8576b\"],[0.6666666666666666,\"#ed7953\"],[0.7777777777777778,\"#fb9f3a\"],[0.8888888888888888,\"#fdca26\"],[1.0,\"#f0f921\"]],\"type\":\"surface\"}],\"table\":[{\"cells\":{\"fill\":{\"color\":\"#EBF0F8\"},\"line\":{\"color\":\"white\"}},\"header\":{\"fill\":{\"color\":\"#C8D4E3\"},\"line\":{\"color\":\"white\"}},\"type\":\"table\"}]},\"layout\":{\"annotationdefaults\":{\"arrowcolor\":\"#2a3f5f\",\"arrowhead\":0,\"arrowwidth\":1},\"autotypenumbers\":\"strict\",\"coloraxis\":{\"colorbar\":{\"outlinewidth\":0,\"ticks\":\"\"}},\"colorscale\":{\"diverging\":[[0,\"#8e0152\"],[0.1,\"#c51b7d\"],[0.2,\"#de77ae\"],[0.3,\"#f1b6da\"],[0.4,\"#fde0ef\"],[0.5,\"#f7f7f7\"],[0.6,\"#e6f5d0\"],[0.7,\"#b8e186\"],[0.8,\"#7fbc41\"],[0.9,\"#4d9221\"],[1,\"#276419\"]],\"sequential\":[[0.0,\"#0d0887\"],[0.1111111111111111,\"#46039f\"],[0.2222222222222222,\"#7201a8\"],[0.3333333333333333,\"#9c179e\"],[0.4444444444444444,\"#bd3786\"],[0.5555555555555556,\"#d8576b\"],[0.6666666666666666,\"#ed7953\"],[0.7777777777777778,\"#fb9f3a\"],[0.8888888888888888,\"#fdca26\"],[1.0,\"#f0f921\"]],\"sequentialminus\":[[0.0,\"#0d0887\"],[0.1111111111111111,\"#46039f\"],[0.2222222222222222,\"#7201a8\"],[0.3333333333333333,\"#9c179e\"],[0.4444444444444444,\"#bd3786\"],[0.5555555555555556,\"#d8576b\"],[0.6666666666666666,\"#ed7953\"],[0.7777777777777778,\"#fb9f3a\"],[0.8888888888888888,\"#fdca26\"],[1.0,\"#f0f921\"]]},\"colorway\":[\"#636efa\",\"#EF553B\",\"#00cc96\",\"#ab63fa\",\"#FFA15A\",\"#19d3f3\",\"#FF6692\",\"#B6E880\",\"#FF97FF\",\"#FECB52\"],\"font\":{\"color\":\"#2a3f5f\"},\"geo\":{\"bgcolor\":\"white\",\"lakecolor\":\"white\",\"landcolor\":\"#E5ECF6\",\"showlakes\":true,\"showland\":true,\"subunitcolor\":\"white\"},\"hoverlabel\":{\"align\":\"left\"},\"hovermode\":\"closest\",\"mapbox\":{\"style\":\"light\"},\"paper_bgcolor\":\"white\",\"plot_bgcolor\":\"#E5ECF6\",\"polar\":{\"angularaxis\":{\"gridcolor\":\"white\",\"linecolor\":\"white\",\"ticks\":\"\"},\"bgcolor\":\"#E5ECF6\",\"radialaxis\":{\"gridcolor\":\"white\",\"linecolor\":\"white\",\"ticks\":\"\"}},\"scene\":{\"xaxis\":{\"backgroundcolor\":\"#E5ECF6\",\"gridcolor\":\"white\",\"gridwidth\":2,\"linecolor\":\"white\",\"showbackground\":true,\"ticks\":\"\",\"zerolinecolor\":\"white\"},\"yaxis\":{\"backgroundcolor\":\"#E5ECF6\",\"gridcolor\":\"white\",\"gridwidth\":2,\"linecolor\":\"white\",\"showbackground\":true,\"ticks\":\"\",\"zerolinecolor\":\"white\"},\"zaxis\":{\"backgroundcolor\":\"#E5ECF6\",\"gridcolor\":\"white\",\"gridwidth\":2,\"linecolor\":\"white\",\"showbackground\":true,\"ticks\":\"\",\"zerolinecolor\":\"white\"}},\"shapedefaults\":{\"line\":{\"color\":\"#2a3f5f\"}},\"ternary\":{\"aaxis\":{\"gridcolor\":\"white\",\"linecolor\":\"white\",\"ticks\":\"\"},\"baxis\":{\"gridcolor\":\"white\",\"linecolor\":\"white\",\"ticks\":\"\"},\"bgcolor\":\"#E5ECF6\",\"caxis\":{\"gridcolor\":\"white\",\"linecolor\":\"white\",\"ticks\":\"\"}},\"title\":{\"x\":0.05},\"xaxis\":{\"automargin\":true,\"gridcolor\":\"white\",\"linecolor\":\"white\",\"ticks\":\"\",\"title\":{\"standoff\":15},\"zerolinecolor\":\"white\",\"zerolinewidth\":2},\"yaxis\":{\"automargin\":true,\"gridcolor\":\"white\",\"linecolor\":\"white\",\"ticks\":\"\",\"title\":{\"standoff\":15},\"zerolinecolor\":\"white\",\"zerolinewidth\":2}}},\"scene\":{\"domain\":{\"x\":[0.0,1.0],\"y\":[0.0,1.0]},\"xaxis\":{\"title\":{\"text\":\"X\"}},\"yaxis\":{\"title\":{\"text\":\"Y\"}},\"zaxis\":{\"title\":{\"text\":\"Z\"}}},\"legend\":{\"title\":{\"text\":\"Colour\"},\"tracegroupgap\":0,\"itemsizing\":\"constant\"},\"margin\":{\"t\":40,\"l\":0,\"r\":0,\"b\":0},\"title\":{\"text\":\"Movement of molecules\"}},                        {\"responsive\": true}                    ).then(function(){\n",
              "                            \n",
              "var gd = document.getElementById('ca81511b-3b5b-435d-b360-b902060666d2');\n",
              "var x = new MutationObserver(function (mutations, observer) {{\n",
              "        var display = window.getComputedStyle(gd).display;\n",
              "        if (!display || display === 'none') {{\n",
              "            console.log([gd, 'removed!']);\n",
              "            Plotly.purge(gd);\n",
              "            observer.disconnect();\n",
              "        }}\n",
              "}});\n",
              "\n",
              "// Listen for the removal of the full notebook cells\n",
              "var notebookContainer = gd.closest('#notebook-container');\n",
              "if (notebookContainer) {{\n",
              "    x.observe(notebookContainer, {childList: true});\n",
              "}}\n",
              "\n",
              "// Listen for the clearing of the current output cell\n",
              "var outputEl = gd.closest('.output');\n",
              "if (outputEl) {{\n",
              "    x.observe(outputEl, {childList: true});\n",
              "}}\n",
              "\n",
              "                        })                };                            </script>        </div>\n",
              "</body>\n",
              "</html>"
            ]
          },
          "metadata": {}
        }
      ]
    },
    {
      "cell_type": "code",
      "source": [],
      "metadata": {
        "id": "UHLrURjVqBjh"
      },
      "execution_count": null,
      "outputs": []
    }
  ]
}